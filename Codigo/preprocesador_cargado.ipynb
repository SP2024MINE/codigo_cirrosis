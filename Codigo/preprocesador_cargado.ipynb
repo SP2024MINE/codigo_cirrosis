{
 "cells": [
  {
   "cell_type": "code",
   "execution_count": 29,
   "id": "f3e9444d-849e-416f-8dff-50b8ec3cb998",
   "metadata": {},
   "outputs": [
    {
     "name": "stdout",
     "output_type": "stream",
     "text": [
      "El preprocesador ha sido cargado exitosamente.\n"
     ]
    }
   ],
   "source": [
    "from joblib import load\n",
    "\n",
    "# Cargar el preprocesador guardado\n",
    "preprocesador_cargado = load('C:/Users/JONANNA/Documents/MINE/codigo_cirrosis/Codigo/preprocesamiento_pipeline.joblib')\n",
    "print(\"El preprocesador ha sido cargado exitosamente.\")"
   ]
  },
  {
   "cell_type": "code",
   "execution_count": 30,
   "id": "6ea08d72-bb1e-4a6a-b302-041f43c184b4",
   "metadata": {},
   "outputs": [
    {
     "name": "stdout",
     "output_type": "stream",
     "text": [
      "['__abstractmethods__', '__annotations__', '__class__', '__delattr__', '__dict__', '__dir__', '__doc__', '__eq__', '__format__', '__ge__', '__getattribute__', '__getitem__', '__getstate__', '__gt__', '__hash__', '__init__', '__init_subclass__', '__le__', '__lt__', '__module__', '__ne__', '__new__', '__reduce__', '__reduce_ex__', '__repr__', '__setattr__', '__setstate__', '__sizeof__', '__sklearn_clone__', '__slotnames__', '__str__', '__subclasshook__', '__weakref__', '_abc_impl', '_add_prefix_for_feature_names_out', '_build_request_for_signature', '_call_func_on_transformers', '_check_feature_names', '_check_n_features', '_columns', '_doc_link_module', '_doc_link_template', '_doc_link_url_param_generator', '_get_default_requests', '_get_doc_link', '_get_empty_routing', '_get_feature_name_out_for_transformer', '_get_metadata_request', '_get_param_names', '_get_params', '_get_remainder_cols', '_get_remainder_cols_dtype', '_get_tags', '_hstack', '_iter', '_log_message', '_more_tags', '_parameter_constraints', '_record_output_indices', '_remainder', '_replace_estimator', '_repr_html_', '_repr_html_inner', '_repr_mimebundle_', '_required_parameters', '_set_params', '_sk_visual_block_', '_sklearn_auto_wrap_output_keys', '_transformer_to_input_indices', '_transformers', '_update_fitted_transformers', '_validate_column_callables', '_validate_data', '_validate_names', '_validate_output', '_validate_params', '_validate_remainder', '_validate_transformers', 'feature_names_in_', 'fit', 'fit_transform', 'force_int_remainder_cols', 'get_feature_names_out', 'get_metadata_routing', 'get_params', 'n_features_in_', 'n_jobs', 'named_transformers_', 'output_indices_', 'remainder', 'set_output', 'set_params', 'sparse_output_', 'sparse_threshold', 'transform', 'transformer_weights', 'transformers', 'transformers_', 'verbose', 'verbose_feature_names_out']\n"
     ]
    }
   ],
   "source": [
    "# Verificar la estructura del preprocesador cargado\n",
    "print(dir(preprocesador_cargado))"
   ]
  },
  {
   "cell_type": "code",
   "execution_count": 31,
   "id": "661b5eda-0630-4075-9e2e-537ea79f59d6",
   "metadata": {},
   "outputs": [],
   "source": [
    "# Crear un DataFrame con nuevos datos\n",
    "nuevos_datos = pd.DataFrame({\n",
    "    'ID': [1], \n",
    "    'N_Days': [400], \n",
    "    'Status': [2], \n",
    "    'Drug': ['A'], \n",
    "    'Age': [50], \n",
    "    'Sex': ['M'], \n",
    "    'Ascites': [1], \n",
    "    'Hepatomegaly': [1], \n",
    "    'Spiders': [1], \n",
    "    'Edema': [0], \n",
    "    'Bilirubin': [1.2], \n",
    "    'Cholesterol': [200], \n",
    "    'Albumin': [3.5], \n",
    "    'Copper': [120], \n",
    "    'Alk_Phos': [100], \n",
    "    'SGOT': [45], \n",
    "    'Tryglicerides': [100], \n",
    "    'Platelets': [300], \n",
    "    'Prothrombin': [10.0]\n",
    "})"
   ]
  },
  {
   "cell_type": "code",
   "execution_count": 32,
   "id": "604dfb1b-f19f-4f38-a226-327b3c4a2d23",
   "metadata": {},
   "outputs": [
    {
     "name": "stdout",
     "output_type": "stream",
     "text": [
      "Preprocesador guardado exitosamente.\n"
     ]
    }
   ],
   "source": [
    "from sklearn.compose import ColumnTransformer\n",
    "from sklearn.preprocessing import OneHotEncoder, StandardScaler\n",
    "from sklearn.pipeline import Pipeline\n",
    "from sklearn.impute import SimpleImputer\n",
    "from joblib import dump\n",
    "import pandas as pd\n",
    "\n",
    "# Cargar los datos\n",
    "data = pd.read_csv('C:/Users/JONANNA/Documents/MINE/codigo_cirrosis/Codigo/cirrhosis.csv')\n",
    "data.columns = data.columns.str.strip()  # Para asegurarse de que no hay espacios en los nombres de columnas\n",
    "\n",
    "# Separar las características (X) de la variable objetivo (y)\n",
    "X = data.drop(columns=['Stage'])\n",
    "y = data['Stage']\n",
    "\n",
    "# Definir transformaciones para datos numéricos y categóricos\n",
    "numeric_features = X.select_dtypes(include=['float64', 'int64']).columns\n",
    "categorical_features = X.select_dtypes(include=['object']).columns\n",
    "\n",
    "numeric_transformer = Pipeline(steps=[\n",
    "    ('imputer', SimpleImputer(strategy='mean')),\n",
    "    ('scaler', StandardScaler())\n",
    "])\n",
    "\n",
    "categorical_transformer = Pipeline(steps=[\n",
    "    ('imputer', SimpleImputer(strategy='most_frequent')),\n",
    "    ('onehot', OneHotEncoder(handle_unknown='ignore'))\n",
    "])\n",
    "\n",
    "# Crear preprocesador\n",
    "preprocessor = ColumnTransformer(\n",
    "    transformers=[\n",
    "        ('num', numeric_transformer, numeric_features),\n",
    "        ('cat', categorical_transformer, categorical_features)\n",
    "    ]\n",
    ")\n",
    "\n",
    "# Ajustar el preprocesador solo con X\n",
    "preprocessor.fit(X)\n",
    "\n",
    "# Guardar el preprocesador entrenado\n",
    "dump(preprocessor, 'C:/Users/JONANNA/Documents/MINE/codigo_cirrosis/Codigo/preprocesamiento_pipeline.joblib')\n",
    "print(\"Preprocesador guardado exitosamente.\")\n"
   ]
  },
  {
   "cell_type": "code",
   "execution_count": 33,
   "id": "29bc20ac-d43d-4cb7-b127-37e2dcfb1e56",
   "metadata": {},
   "outputs": [
    {
     "name": "stdout",
     "output_type": "stream",
     "text": [
      "El preprocesador ha sido cargado exitosamente.\n"
     ]
    }
   ],
   "source": [
    "from joblib import load\n",
    "\n",
    "# Cargar el preprocesador guardado\n",
    "preprocesador_cargado = load('C:/Users/JONANNA/Documents/MINE/codigo_cirrosis/Codigo/preprocesamiento_pipeline.joblib')\n",
    "print(\"El preprocesador ha sido cargado exitosamente.\")\n"
   ]
  },
  {
   "cell_type": "code",
   "execution_count": 34,
   "id": "da4ca4b8-ce7a-45d7-9cf3-8fc94f3336e9",
   "metadata": {},
   "outputs": [],
   "source": [
    "import pandas as pd\n",
    "\n",
    "# Crear un nuevo DataFrame con los mismos nombres de columnas que X\n",
    "nuevos_datos = pd.DataFrame({\n",
    "    'ID': [1], \n",
    "    'N_Days': [400], \n",
    "    'Status': [2], \n",
    "    'Drug': ['A'], \n",
    "    'Age': [50], \n",
    "    'Sex': ['M'], \n",
    "    'Ascites': [1], \n",
    "    'Hepatomegaly': [1], \n",
    "    'Spiders': [1], \n",
    "    'Edema': [0], \n",
    "    'Bilirubin': [1.2], \n",
    "    'Cholesterol': [200], \n",
    "    'Albumin': [3.5], \n",
    "    'Copper': [120], \n",
    "    'Alk_Phos': [100], \n",
    "    'SGOT': [45], \n",
    "    'Tryglicerides': [100], \n",
    "    'Platelets': [300], \n",
    "    'Prothrombin': [10.0]\n",
    "})\n"
   ]
  },
  {
   "cell_type": "code",
   "execution_count": 26,
   "id": "0b2aac9d-daa9-4899-8a1c-e846bea86b19",
   "metadata": {},
   "outputs": [
    {
     "name": "stdout",
     "output_type": "stream",
     "text": [
      "Transformación aplicada a nuevos datos exitosamente.\n"
     ]
    }
   ],
   "source": [
    "# Aplicar el preprocesador cargado a los nuevos datos\n",
    "nuevos_datos_transformados = preprocesador_cargado.transform(nuevos_datos)\n",
    "print(\"Transformación aplicada a nuevos datos exitosamente.\")\n"
   ]
  },
  {
   "cell_type": "code",
   "execution_count": 27,
   "id": "343ccbce-e4eb-4603-a432-bef015daa697",
   "metadata": {},
   "outputs": [
    {
     "name": "stdout",
     "output_type": "stream",
     "text": [
      "[[-1.72791209 -1.3756117  -4.84964678 -0.45904301 -0.88819337  0.0060307\n",
      "   0.30365007 -1.01973234 -1.5857907  -0.46244916  0.44348488 -0.7185622\n",
      "   0.          0.          0.          0.          0.          0.\n",
      "   1.          0.          0.          0.          0.          0.\n",
      "   0.          0.          0.          0.        ]]\n"
     ]
    }
   ],
   "source": [
    "print(nuevos_datos_transformados)"
   ]
  },
  {
   "cell_type": "code",
   "execution_count": 28,
   "id": "4cfeb7a2-7af3-4b54-86c3-6044a964dc52",
   "metadata": {},
   "outputs": [
    {
     "name": "stdout",
     "output_type": "stream",
     "text": [
      "    num__ID  num__N_Days  num__Age  num__Bilirubin  num__Cholesterol  \\\n",
      "0 -1.727912    -1.375612 -4.849647       -0.459043         -0.888193   \n",
      "\n",
      "   num__Albumin  num__Copper  num__Alk_Phos  num__SGOT  num__Tryglicerides  \\\n",
      "0      0.006031      0.30365      -1.019732  -1.585791           -0.462449   \n",
      "\n",
      "   ...  cat__Sex_M  cat__Ascites_N  cat__Ascites_Y  cat__Hepatomegaly_N  \\\n",
      "0  ...         1.0             0.0             0.0                  0.0   \n",
      "\n",
      "   cat__Hepatomegaly_Y  cat__Spiders_N  cat__Spiders_Y  cat__Edema_N  \\\n",
      "0                  0.0             0.0             0.0           0.0   \n",
      "\n",
      "   cat__Edema_S  cat__Edema_Y  \n",
      "0           0.0           0.0  \n",
      "\n",
      "[1 rows x 28 columns]\n"
     ]
    }
   ],
   "source": [
    "import pandas as pd\n",
    "\n",
    "nuevos_datos_df = pd.DataFrame(nuevos_datos_transformados, columns=preprocesador_cargado.get_feature_names_out())\n",
    "print(nuevos_datos_df)\n"
   ]
  },
  {
   "cell_type": "code",
   "execution_count": null,
   "id": "61bbc6c2-5451-45d0-8f73-61c0989a4bac",
   "metadata": {},
   "outputs": [],
   "source": []
  }
 ],
 "metadata": {
  "kernelspec": {
   "display_name": "Python 3 (ipykernel)",
   "language": "python",
   "name": "python3"
  },
  "language_info": {
   "codemirror_mode": {
    "name": "ipython",
    "version": 3
   },
   "file_extension": ".py",
   "mimetype": "text/x-python",
   "name": "python",
   "nbconvert_exporter": "python",
   "pygments_lexer": "ipython3",
   "version": "3.12.7"
  }
 },
 "nbformat": 4,
 "nbformat_minor": 5
}
