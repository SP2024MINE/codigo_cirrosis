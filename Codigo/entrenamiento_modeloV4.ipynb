{
 "cells": [
  {
   "cell_type": "code",
   "execution_count": 92,
   "id": "f3f0ce1e-51b8-4f64-b479-f8ce01b62a6e",
   "metadata": {},
   "outputs": [],
   "source": [
    "from joblib import dump, load"
   ]
  },
  {
   "cell_type": "code",
   "execution_count": 93,
   "id": "65ec8503-9d7f-4594-9a19-54084043a7a3",
   "metadata": {},
   "outputs": [],
   "source": [
    "import os\n",
    "if not os.path.exists('Codigo'):\n",
    "    os.makedirs('Codigo')"
   ]
  },
  {
   "cell_type": "code",
   "execution_count": 94,
   "id": "f29b8119-c59b-436f-a422-39af9d341251",
   "metadata": {},
   "outputs": [],
   "source": [
    "from sklearn.compose import ColumnTransformer\n",
    "from sklearn.pipeline import Pipeline\n",
    "from sklearn.preprocessing import StandardScaler, OneHotEncoder\n",
    "from sklearn.impute import SimpleImputer\n",
    "\n",
    "# Definir transformaciones para variables numéricas y categóricas\n",
    "numeric_transformer = Pipeline(steps=[\n",
    "    ('imputer', SimpleImputer(strategy='mean')),\n",
    "    ('scaler', StandardScaler())\n",
    "])\n",
    "\n",
    "categorical_transformer = Pipeline(steps=[\n",
    "    ('imputer', SimpleImputer(strategy='most_frequent')),\n",
    "    ('onehot', OneHotEncoder(handle_unknown='ignore'))\n",
    "])\n",
    "\n",
    "# Definir las columnas numéricas y categóricas de tu dataset\n",
    "numeric_features = X.select_dtypes(include=['float64', 'int64']).columns\n",
    "categorical_features = X.select_dtypes(include=['object']).columns\n",
    "\n",
    "# Crear el preprocessor combinando las transformaciones\n",
    "preprocessor = ColumnTransformer(\n",
    "    transformers=[\n",
    "        ('num', numeric_transformer, numeric_features),\n",
    "        ('cat', categorical_transformer, categorical_features)\n",
    "    ])"
   ]
  },
  {
   "cell_type": "code",
   "execution_count": 95,
   "id": "f2d45821-ea8b-4dae-9817-22f7cf4053db",
   "metadata": {},
   "outputs": [],
   "source": [
    "# Importar librerías necesarias\n",
    "import pandas as pd\n",
    "from joblib import load, dump\n",
    "from sklearn.model_selection import train_test_split\n",
    "from sklearn.pipeline import Pipeline\n",
    "from sklearn.compose import ColumnTransformer\n",
    "from sklearn.preprocessing import OneHotEncoder, StandardScaler\n",
    "from sklearn.impute import SimpleImputer\n",
    "from sklearn.ensemble import RandomForestClassifier\n",
    "from sklearn.metrics import accuracy_score, classification_report\n"
   ]
  },
  {
   "cell_type": "code",
   "execution_count": 96,
   "id": "5e917fb5-20ec-49f8-8f36-01b18bae8981",
   "metadata": {},
   "outputs": [],
   "source": [
    "# Cargar los datos\n",
    "# Cargar los datos\n",
    "data = pd.read_csv('C:/Users/JONANNA/Documents/MINE/codigo_cirrosis/Codigo/cirrhosis.csv')\n",
    "data.columns = data.columns.str.strip()  # Asegurar que no haya espacios en los nombres de columnas\n",
    "\n",
    "# Definir X e y\n",
    "X = data.drop(columns=['Stage'])  # Cambia 'Stage' si tu variable objetivo tiene otro nombre\n",
    "y = data['Stage']\n",
    "\n",
    "# Dividir los datos en entrenamiento y prueba como DataFrames\n",
    "X_train, X_test, y_train, y_test = train_test_split(X, y, test_size=0.2, random_state=42)\n"
   ]
  },
  {
   "cell_type": "code",
   "execution_count": 97,
   "id": "f05f84b8-9140-49bd-afd8-b2af5e9fd921",
   "metadata": {},
   "outputs": [],
   "source": [
    "# Definir las transformaciones para las variables numéricas y categóricas\n",
    "numeric_transformer = Pipeline(steps=[\n",
    "    ('imputer', SimpleImputer(strategy='mean')),  # Manejo de nulos en numéricas\n",
    "    ('scaler', StandardScaler())  # Estandarización\n",
    "])\n",
    "\n",
    "categorical_transformer = Pipeline(steps=[\n",
    "    ('imputer', SimpleImputer(strategy='most_frequent')),  # Manejo de nulos en categóricas\n",
    "    ('onehot', OneHotEncoder(handle_unknown='ignore'))  # Codificación categórica\n",
    "])\n",
    "\n",
    "# Definir las columnas numéricas y categóricas\n",
    "numeric_features = X.select_dtypes(include=['float64', 'int64']).columns\n",
    "categorical_features = X.select_dtypes(include=['object']).columns\n",
    "\n",
    "# Crear el ColumnTransformer\n",
    "preprocessor = ColumnTransformer(\n",
    "    transformers=[\n",
    "        ('num', numeric_transformer, numeric_features),\n",
    "        ('cat', categorical_transformer, categorical_features)\n",
    "    ])\n",
    "\n",
    "# Integrar el preprocesador y el modelo en un pipeline\n",
    "pipeline = Pipeline(steps=[\n",
    "    ('preprocessor', preprocessor),\n",
    "    ('classifier', RandomForestClassifier(random_state=42))  # Modelo de clasificación\n",
    "])\n",
    "\n"
   ]
  },
  {
   "cell_type": "code",
   "execution_count": 98,
   "id": "52114c4b-188c-455a-b226-e5b1b1034b84",
   "metadata": {},
   "outputs": [
    {
     "name": "stdout",
     "output_type": "stream",
     "text": [
      "Valores nulos en y_train: 4\n",
      "Valores nulos en y_test: 2\n"
     ]
    }
   ],
   "source": [
    "# Verificar si hay valores nulos en y_train y y_test\n",
    "print(\"Valores nulos en y_train:\", y_train.isnull().sum())\n",
    "print(\"Valores nulos en y_test:\", y_test.isnull().sum())\n"
   ]
  },
  {
   "cell_type": "code",
   "execution_count": 99,
   "id": "627d5981-3f09-4d66-aea4-347a814b2fe5",
   "metadata": {},
   "outputs": [],
   "source": [
    "# Reemplazar valores nulos en y_train y y_test por el valor más frecuente\n",
    "moda_y_train = y_train.mode()[0]  # Obtener la moda\n",
    "moda_y_test = y_test.mode()[0]    # Obtener la moda\n",
    "\n",
    "y_train.fillna(moda_y_train, inplace=True)\n",
    "y_test.fillna(moda_y_test, inplace=True)\n"
   ]
  },
  {
   "cell_type": "code",
   "execution_count": 100,
   "id": "3c58d231-9359-4889-86d5-6c02ebba149a",
   "metadata": {},
   "outputs": [
    {
     "name": "stdout",
     "output_type": "stream",
     "text": [
      "Pipeline completo entrenado exitosamente.\n"
     ]
    }
   ],
   "source": [
    "# Entrenar el pipeline completo\n",
    "pipeline.fit(X_train, y_train)\n",
    "print(\"Pipeline completo entrenado exitosamente.\")\n"
   ]
  },
  {
   "cell_type": "code",
   "execution_count": 101,
   "id": "0e72d7b4-b276-4fd4-bfc7-f4e48a868811",
   "metadata": {},
   "outputs": [],
   "source": [
    "# Integrar el preprocesador y el modelo en un único pipeline\n",
    "pipeline = Pipeline(steps=[\n",
    "    ('preprocessor', preprocessor),\n",
    "    ('classifier', RandomForestClassifier(random_state=42))  # Modelo de clasificación\n",
    "])\n"
   ]
  },
  {
   "cell_type": "code",
   "execution_count": 102,
   "id": "d07fb808-810e-4323-91d6-3cdf180a1ba7",
   "metadata": {},
   "outputs": [
    {
     "name": "stdout",
     "output_type": "stream",
     "text": [
      "Pipeline completo entrenado exitosamente.\n"
     ]
    }
   ],
   "source": [
    "# Entrenar el pipeline completo\n",
    "pipeline.fit(X_train, y_train)\n",
    "print(\"Pipeline completo entrenado exitosamente.\")\n"
   ]
  },
  {
   "cell_type": "code",
   "execution_count": 103,
   "id": "6851d4f2-9fa7-49f4-91c0-486f971c8157",
   "metadata": {},
   "outputs": [
    {
     "name": "stdout",
     "output_type": "stream",
     "text": [
      "Pipeline completo guardado exitosamente.\n"
     ]
    }
   ],
   "source": [
    "# Guardar el pipeline entrenado\n",
    "dump(pipeline, 'C:/Users/JONANNA/Documents/MINE/codigo_cirrosis/Codigo/modelo_completo_pipeline.joblib')\n",
    "print(\"Pipeline completo guardado exitosamente.\")\n"
   ]
  },
  {
   "cell_type": "code",
   "execution_count": 104,
   "id": "6f63961a-8524-4c80-b665-38c77aceefdf",
   "metadata": {},
   "outputs": [],
   "source": [
    "# Hacer predicciones en el conjunto de prueba\n",
    "y_pred = pipeline.predict(X_test)\n"
   ]
  },
  {
   "cell_type": "code",
   "execution_count": 106,
   "id": "d467fef9-0868-48b1-9620-0c5b96352a16",
   "metadata": {},
   "outputs": [
    {
     "name": "stdout",
     "output_type": "stream",
     "text": [
      "Accuracy: 0.5476190476190477\n",
      "Reporte de clasificación:\n",
      "               precision    recall  f1-score   support\n",
      "\n",
      "         1.0       0.00      0.00      0.00         3\n",
      "         2.0       0.27      0.19      0.22        16\n",
      "         3.0       0.55      0.76      0.64        34\n",
      "         4.0       0.65      0.55      0.60        31\n",
      "\n",
      "    accuracy                           0.55        84\n",
      "   macro avg       0.37      0.38      0.37        84\n",
      "weighted avg       0.52      0.55      0.52        84\n",
      "\n"
     ]
    }
   ],
   "source": [
    "# Imprimir métricas de evaluación\n",
    "from sklearn.metrics import accuracy_score, classification_report\n",
    "\n",
    "print(\"Accuracy:\", accuracy_score(y_test, y_pred))\n",
    "print(\"Reporte de clasificación:\\n\", classification_report(y_test, y_pred, zero_division=0))\n"
   ]
  },
  {
   "cell_type": "code",
   "execution_count": 90,
   "id": "052658d7-4989-451d-8157-6cf912ddb92c",
   "metadata": {},
   "outputs": [],
   "source": [
    "# Importar librerías para guardar en joblib\n",
    "from joblib import load\n",
    "from sklearn.metrics import accuracy_score, classification_report\n"
   ]
  },
  {
   "cell_type": "code",
   "execution_count": 91,
   "id": "d4a8b7fc-a11e-4bd6-968e-f484f5bde830",
   "metadata": {},
   "outputs": [
    {
     "name": "stdout",
     "output_type": "stream",
     "text": [
      "Pipeline de preprocesamiento guardado exitosamente.\n"
     ]
    }
   ],
   "source": [
    "# Guardar el pipeline de preprocesamiento\n",
    "dump(preprocessor, 'Codigo/preprocesamiento_pipeline.joblib')\n",
    "print(\"Pipeline de preprocesamiento guardado exitosamente.\")\n"
   ]
  },
  {
   "cell_type": "code",
   "execution_count": null,
   "id": "d64f651b-8350-4b91-9f66-b59b5a624164",
   "metadata": {},
   "outputs": [],
   "source": []
  }
 ],
 "metadata": {
  "kernelspec": {
   "display_name": "Python 3 (ipykernel)",
   "language": "python",
   "name": "python3"
  },
  "language_info": {
   "codemirror_mode": {
    "name": "ipython",
    "version": 3
   },
   "file_extension": ".py",
   "mimetype": "text/x-python",
   "name": "python",
   "nbconvert_exporter": "python",
   "pygments_lexer": "ipython3",
   "version": "3.12.7"
  }
 },
 "nbformat": 4,
 "nbformat_minor": 5
}
