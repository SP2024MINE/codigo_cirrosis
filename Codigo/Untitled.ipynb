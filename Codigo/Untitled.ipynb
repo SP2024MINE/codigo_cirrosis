{
 "cells": [
  {
   "cell_type": "code",
   "execution_count": 1,
   "id": "246b5773-df37-4c7f-b0b9-75ad916c9945",
   "metadata": {},
   "outputs": [
    {
     "name": "stdout",
     "output_type": "stream",
     "text": [
      "El preprocesador ha sido cargado exitosamente.\n"
     ]
    }
   ],
   "source": [
    "from joblib import load\n",
    "\n",
    "# Cargar el preprocesador guardado\n",
    "preprocesador_cargado = load('C:/Users/JONANNA/Documents/MINE/codigo_cirrosis/Codigo/preprocesamiento_pipeline.joblib')\n",
    "print(\"El preprocesador ha sido cargado exitosamente.\")"
   ]
  },
  {
   "cell_type": "code",
   "execution_count": null,
   "id": "f4d64c1c-4567-4b48-996d-2b8ed66d70c4",
   "metadata": {},
   "outputs": [],
   "source": []
  }
 ],
 "metadata": {
  "kernelspec": {
   "display_name": "Python 3 (ipykernel)",
   "language": "python",
   "name": "python3"
  },
  "language_info": {
   "codemirror_mode": {
    "name": "ipython",
    "version": 3
   },
   "file_extension": ".py",
   "mimetype": "text/x-python",
   "name": "python",
   "nbconvert_exporter": "python",
   "pygments_lexer": "ipython3",
   "version": "3.12.7"
  }
 },
 "nbformat": 4,
 "nbformat_minor": 5
}
