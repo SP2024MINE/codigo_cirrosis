import pandas as pd
from sklearn.model_selection import train_test_split
from sklearn.linear_model import LogisticRegression
from sklearn.metrics import accuracy_score, classification_report

# Cargar los datos desde el archivo Excel
file_path = "C:/Users/djsol/Documents/MINE/Semestre II/Seminario de Programacion/djsoler.github.io/Cifras_ETDH_01_08_2024.xlsx"

# Leer la hoja de "Instituciones SIET"
df_instituciones = pd.read_excel(file_path, sheet_name='Instituciones SIET')
# Visualizar las primeras filas del DataFrame
df_instituciones.head()


# 1. Manejar valores faltantes (si es necesario)
df_instituciones.fillna(0, inplace=True)  # Puedes cambiar esto seg�n tus necesidades

# 2. Variables independientes y dependiente
X = df_instituciones[['Total SIET', 'Total ETDH', 'Certificado o Calidad']]
y = df_instituciones['Certificadas']  # Aseg�rate de que esta columna sea la variable objetivo

# 3. Dividir los datos en conjuntos de entrenamiento y prueba
X_train, X_test, y_train, y_test = train_test_split(X, y, test_size=0.3, random_state=42)

# 4. Entrenar el modelo de regresi�n log�stica
model = LogisticRegression(max_iter=1000)  # Ajusta max_iter si es necesario
model.fit(X_train, y_train)

# 5. Realizar predicciones y evaluar el modelo
y_pred = model.predict(X_test)
accuracy = accuracy_score(y_test, y_pred)

print(f"Accuracy: {accuracy}")
print(classification_report(y_test, y_pred))


import pandas as pd
from sklearn.model_selection import train_test_split
from sklearn.linear_model import LogisticRegression
from sklearn.metrics import accuracy_score, classification_report

# Cargar los datos desde el archivo Excel
file_path = "C:/Users/djsol/Documents/MINE/Semestre II/Seminario de Programacion/djsoler.github.io/Cifras_ETDH_01_08_2024.xlsx"

# Leer la hoja de "Instituciones SIET"
df_instituciones = pd.read_excel(file_path, sheet_name='Instituciones SIET')

# Manejar valores faltantes (si es necesario)
df_instituciones.fillna(0, inplace=True)

# Variables independientes y dependiente
X = df_instituciones[['Total SIET', 'Total ETDH', 'Certificado o Calidad']]
y = df_instituciones['Certificadas']  # Ajusta si la columna objetivo es diferente

# Dividir los datos en conjuntos de entrenamiento y prueba
X_train, X_test, y_train, y_test = train_test_split(X, y, test_size=0.3, random_state=42)

# Entrenar el modelo de regresi�n log�stica
model = LogisticRegression(max_iter=1000)
model.fit(X_train, y_train)

# Realizar predicciones y evaluar el modelo
y_pred = model.predict(X_test)
accuracy = accuracy_score(y_test, y_pred)

print(f"Accuracy: {accuracy}")
print(classification_report(y_test, y_pred))

