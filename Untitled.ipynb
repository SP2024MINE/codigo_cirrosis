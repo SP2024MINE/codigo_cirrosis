{
 "cells": [
  {
   "cell_type": "code",
   "execution_count": 16,
   "id": "dde78089-3abf-4a3a-a759-e3f072625c6c",
   "metadata": {},
   "outputs": [
    {
     "name": "stdout",
     "output_type": "stream",
     "text": [
      "   ID  N_Days Status             Drug    Age Sex Ascites Hepatomegaly Spiders  \\\n",
      "0   1     400      D  D-penicillamine  21464   F       Y            Y       Y   \n",
      "1   2    4500      C  D-penicillamine  20617   F       N            Y       Y   \n",
      "2   3    1012      D  D-penicillamine  25594   M       N            N       N   \n",
      "3   4    1925      D  D-penicillamine  19994   F       N            Y       Y   \n",
      "4   5    1504     CL          Placebo  13918   F       N            Y       Y   \n",
      "\n",
      "  Edema  Bilirubin  Cholesterol  Albumin  Copper  Alk_Phos    SGOT  \\\n",
      "0     Y       14.5        261.0     2.60   156.0    1718.0  137.95   \n",
      "1     N        1.1        302.0     4.14    54.0    7394.8  113.52   \n",
      "2     S        1.4        176.0     3.48   210.0     516.0   96.10   \n",
      "3     S        1.8        244.0     2.54    64.0    6121.8   60.63   \n",
      "4     N        3.4        279.0     3.53   143.0     671.0  113.15   \n",
      "\n",
      "   Tryglicerides  Platelets  Prothrombin  Stage  \n",
      "0          172.0      190.0         12.2    4.0  \n",
      "1           88.0      221.0         10.6    3.0  \n",
      "2           55.0      151.0         12.0    4.0  \n",
      "3           92.0      183.0         10.3    4.0  \n",
      "4           72.0      136.0         10.9    3.0  \n"
     ]
    }
   ],
   "source": [
    "import pandas as pd\n",
    "\n",
    "# Ruta del dataset cirrhosis\n",
    "ruta_dataset = \"Codigo/cirrhosis.csv\"  # ajusta la ruta si está en una ubicación diferente\n",
    "\n",
    "# Cargue de datos\n",
    "data = pd.read_csv(ruta_dataset)\n",
    "\n",
    "# Impresión de las primeras filas del dataset\n",
    "print(data.head())\n",
    "#\n",
    "#"
   ]
  },
  {
   "cell_type": "code",
   "execution_count": 13,
   "id": "603c62fb-6a17-4da3-8a2c-2bee8f13da7a",
   "metadata": {},
   "outputs": [
    {
     "name": "stdout",
     "output_type": "stream",
     "text": [
      "<class 'pandas.core.frame.DataFrame'>\n",
      "RangeIndex: 418 entries, 0 to 417\n",
      "Data columns (total 20 columns):\n",
      " #   Column         Non-Null Count  Dtype  \n",
      "---  ------         --------------  -----  \n",
      " 0   ID             418 non-null    int64  \n",
      " 1   N_Days         418 non-null    int64  \n",
      " 2   Status         418 non-null    object \n",
      " 3   Drug           312 non-null    object \n",
      " 4   Age            418 non-null    int64  \n",
      " 5   Sex            418 non-null    object \n",
      " 6   Ascites        312 non-null    object \n",
      " 7   Hepatomegaly   312 non-null    object \n",
      " 8   Spiders        312 non-null    object \n",
      " 9   Edema          418 non-null    object \n",
      " 10  Bilirubin      418 non-null    float64\n",
      " 11  Cholesterol    284 non-null    float64\n",
      " 12  Albumin        418 non-null    float64\n",
      " 13  Copper         310 non-null    float64\n",
      " 14  Alk_Phos       312 non-null    float64\n",
      " 15  SGOT           312 non-null    float64\n",
      " 16  Tryglicerides  282 non-null    float64\n",
      " 17  Platelets      407 non-null    float64\n",
      " 18  Prothrombin    416 non-null    float64\n",
      " 19  Stage          412 non-null    float64\n",
      "dtypes: float64(10), int64(3), object(7)\n",
      "memory usage: 65.4+ KB\n",
      "               ID       N_Days           Age   Bilirubin  Cholesterol  \\\n",
      "count  418.000000   418.000000    418.000000  418.000000   284.000000   \n",
      "mean   209.500000  1917.782297  18533.351675    3.220813   369.510563   \n",
      "std    120.810458  1104.672992   3815.845055    4.407506   231.944545   \n",
      "min      1.000000    41.000000   9598.000000    0.300000   120.000000   \n",
      "25%    105.250000  1092.750000  15644.500000    0.800000   249.500000   \n",
      "50%    209.500000  1730.000000  18628.000000    1.400000   309.500000   \n",
      "75%    313.750000  2613.500000  21272.500000    3.400000   400.000000   \n",
      "max    418.000000  4795.000000  28650.000000   28.000000  1775.000000   \n",
      "\n",
      "          Albumin      Copper      Alk_Phos        SGOT  Tryglicerides  \\\n",
      "count  418.000000  310.000000    312.000000  312.000000     282.000000   \n",
      "mean     3.497440   97.648387   1982.655769  122.556346     124.702128   \n",
      "std      0.424972   85.613920   2140.388824   56.699525      65.148639   \n",
      "min      1.960000    4.000000    289.000000   26.350000      33.000000   \n",
      "25%      3.242500   41.250000    871.500000   80.600000      84.250000   \n",
      "50%      3.530000   73.000000   1259.000000  114.700000     108.000000   \n",
      "75%      3.770000  123.000000   1980.000000  151.900000     151.000000   \n",
      "max      4.640000  588.000000  13862.400000  457.250000     598.000000   \n",
      "\n",
      "        Platelets  Prothrombin       Stage  \n",
      "count  407.000000   416.000000  412.000000  \n",
      "mean   257.024570    10.731731    3.024272  \n",
      "std     98.325585     1.022000    0.882042  \n",
      "min     62.000000     9.000000    1.000000  \n",
      "25%    188.500000    10.000000    2.000000  \n",
      "50%    251.000000    10.600000    3.000000  \n",
      "75%    318.000000    11.100000    4.000000  \n",
      "max    721.000000    18.000000    4.000000  \n"
     ]
    }
   ],
   "source": [
    "# Información del dataset\n",
    "data.info()\n",
    "\n",
    "# Estadísticas descriptivas\n",
    "print(data.describe())"
   ]
  },
  {
   "cell_type": "code",
   "execution_count": null,
   "id": "4572cbb0-6ca8-454d-89cb-ba3c434ac9b5",
   "metadata": {},
   "outputs": [],
   "source": []
  }
 ],
 "metadata": {
  "kernelspec": {
   "display_name": "Python 3 (ipykernel)",
   "language": "python",
   "name": "python3"
  },
  "language_info": {
   "codemirror_mode": {
    "name": "ipython",
    "version": 3
   },
   "file_extension": ".py",
   "mimetype": "text/x-python",
   "name": "python",
   "nbconvert_exporter": "python",
   "pygments_lexer": "ipython3",
   "version": "3.12.7"
  }
 },
 "nbformat": 4,
 "nbformat_minor": 5
}
